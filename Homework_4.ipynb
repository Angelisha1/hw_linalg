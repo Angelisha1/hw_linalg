{
 "cells": [
  {
   "cell_type": "markdown",
   "metadata": {},
   "source": [
    "# Уровень 0\n",
    "\n",
    "f(x) = x**5 + 4sin(2x) + cos(3x+3)\n",
    "\n",
    "В точке x = 1"
   ]
  },
  {
   "cell_type": "code",
   "execution_count": 48,
   "metadata": {},
   "outputs": [
    {
     "name": "stdout",
     "output_type": "stream",
     "text": [
      "Первая производная: 5*x**4 - 3*sin(3*x + 3) + 8*cos(2*x)\n",
      "Вторая производная: 20*x**3 - 16*sin(2*x) - 9*cos(3*x + 3)\n"
     ]
    }
   ],
   "source": [
    "from scipy.misc import derivative\n",
    "import scipy\n",
    "from sympy import *\n",
    "\n",
    "x, y = symbols('x y')\n",
    "y = x**5 + 4*sin(2*x) + cos(3*x+3)\n",
    "diff1 = diff(y, x)\n",
    "diff2 = diff(diff1, x)\n",
    "\n",
    "\n",
    "print(f'Первая производная: {diff1}\\nВторая производная: {diff2}')"
   ]
  },
  {
   "cell_type": "code",
   "execution_count": 51,
   "metadata": {},
   "outputs": [
    {
     "name": "stdout",
     "output_type": "stream",
     "text": [
      "Значение производной 1: 2.50907180221964\n",
      "Значение производной 2: -3.19029140906420\n"
     ]
    }
   ],
   "source": [
    "fx1 = 5*x**4 - 3*sin(3*x + 3) + 8*cos(2*x)\n",
    "fx2 = 20*x**3 - 16*sin(2*x) - 9*cos(3*x + 3)\n",
    "\n",
    "x = 1\n",
    "res1 = fx1.evalf()\n",
    "res2 = fx2.evalf()\n",
    "\n",
    "print(f'Значение производной 1: {res1}\\nЗначение производной 2: {res2}')"
   ]
  },
  {
   "cell_type": "markdown",
   "metadata": {},
   "source": [
    "# Уровень 1"
   ]
  },
  {
   "cell_type": "code",
   "execution_count": null,
   "metadata": {},
   "outputs": [],
   "source": []
  },
  {
   "cell_type": "code",
   "execution_count": 52,
   "metadata": {},
   "outputs": [],
   "source": []
  }
 ],
 "metadata": {
  "kernelspec": {
   "display_name": "Python 3",
   "language": "python",
   "name": "python3"
  },
  "language_info": {
   "codemirror_mode": {
    "name": "ipython",
    "version": 3
   },
   "file_extension": ".py",
   "mimetype": "text/x-python",
   "name": "python",
   "nbconvert_exporter": "python",
   "pygments_lexer": "ipython3",
   "version": "3.8.3"
  }
 },
 "nbformat": 4,
 "nbformat_minor": 4
}
